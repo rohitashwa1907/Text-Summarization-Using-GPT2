{
  "nbformat": 4,
  "nbformat_minor": 0,
  "metadata": {
    "colab": {
      "name": "GPT2_Summarizer.ipynb",
      "provenance": [],
      "collapsed_sections": [],
      "machine_shape": "hm"
    },
    "kernelspec": {
      "name": "python3",
      "display_name": "Python 3"
    },
    "language_info": {
      "name": "python"
    },
    "accelerator": "GPU"
  },
  "cells": [
    {
      "cell_type": "markdown",
      "metadata": {
        "id": "s666Tv-qDnCj"
      },
      "source": [
        "##**Training and Evaluating GPT2 for Text Summarization**\n",
        "\n",
        "This notebook illustrate how to use this repository to train a **GPT2 for abstractive summarization**.\n",
        "\n",
        "\n",
        "\n",
        "\n",
        "*   We will use a small sample from CNNDailyMail dataset ([download here](https://drive.google.com/file/d/19MXZFt6V-OQd0PgljC9GOscQy_ma3pdT/view?usp=sharing)) to train the model. One can also use any dataset of their choice. \n",
        "*   We will use a pretrained (DistilGPT2/ gpt2-medium) model from Huggingface [model hub](https://huggingface.co/models). It will be fine tuned on the sample dataset.\n",
        "\n",
        "* We will also use a pretrained gpt2-medium  ([download here](https://drive.google.com/file/d/1pdJafkmv4phlMLjP6rGK8DvBiLZqYr12/view?usp=sharing)) for generating summaries on a provided textfile.\n"
      ]
    },
    {
      "cell_type": "code",
      "metadata": {
        "id": "5k6js4Ry1kgI"
      },
      "source": [
        "# create a project folder\n",
        "!mkdir project"
      ],
      "execution_count": 1,
      "outputs": []
    },
    {
      "cell_type": "code",
      "metadata": {
        "colab": {
          "base_uri": "https://localhost:8080/"
        },
        "id": "L8YE3b6NsF9Z",
        "outputId": "140ee5d2-ca4b-433a-c5c5-99ad8b35468e"
      },
      "source": [
        "# clone the repository\n",
        "!git clone https://github.com/rohitashwa1907/Text-Summarization-Using-GPT2.git /content/project"
      ],
      "execution_count": 2,
      "outputs": [
        {
          "output_type": "stream",
          "text": [
            "Cloning into '/content/project'...\n",
            "remote: Enumerating objects: 38, done.\u001b[K\n",
            "remote: Counting objects: 100% (38/38), done.\u001b[K\n",
            "remote: Compressing objects: 100% (35/35), done.\u001b[K\n",
            "remote: Total 38 (delta 13), reused 0 (delta 0), pack-reused 0\u001b[K\n",
            "Unpacking objects: 100% (38/38), done.\n"
          ],
          "name": "stdout"
        }
      ]
    },
    {
      "cell_type": "code",
      "metadata": {
        "colab": {
          "base_uri": "https://localhost:8080/"
        },
        "id": "wrYxMcbIpdaz",
        "outputId": "cbf6f567-165d-4a45-daa5-782d0d5f542e"
      },
      "source": [
        "# mounting the google drive inside project folder\n",
        "from google.colab import drive\n",
        "drive.mount('/content/project/drive')"
      ],
      "execution_count": 3,
      "outputs": [
        {
          "output_type": "stream",
          "text": [
            "Mounted at /content/project/drive\n"
          ],
          "name": "stdout"
        }
      ]
    },
    {
      "cell_type": "code",
      "metadata": {
        "colab": {
          "base_uri": "https://localhost:8080/"
        },
        "id": "ELkC80yS2oPV",
        "outputId": "6541f183-637d-4a2c-e8c9-00a8f344894a"
      },
      "source": [
        "%cd /content/project"
      ],
      "execution_count": 4,
      "outputs": [
        {
          "output_type": "stream",
          "text": [
            "/content/project\n"
          ],
          "name": "stdout"
        }
      ]
    },
    {
      "cell_type": "code",
      "metadata": {
        "colab": {
          "base_uri": "https://localhost:8080/"
        },
        "id": "Gzhyem92KddX",
        "outputId": "26e03b42-6292-4083-dfa7-e28da972ec3f"
      },
      "source": [
        "# running on gpu\n",
        "import torch\n",
        "if torch.cuda.is_available():\n",
        "  device = torch.device('cuda:0')\n",
        "  print('gpu')\n",
        "  print(torch.cuda.get_device_properties(0))\n",
        "\n",
        "else:\n",
        "  device = torch.device('cpu')\n",
        "  print(device)"
      ],
      "execution_count": 5,
      "outputs": [
        {
          "output_type": "stream",
          "text": [
            "gpu\n",
            "_CudaDeviceProperties(name='Tesla P100-PCIE-16GB', major=6, minor=0, total_memory=16280MB, multi_processor_count=56)\n"
          ],
          "name": "stdout"
        }
      ]
    },
    {
      "cell_type": "code",
      "metadata": {
        "colab": {
          "base_uri": "https://localhost:8080/",
          "height": 419
        },
        "id": "IiH2_XbnvskY",
        "outputId": "788778f5-53d5-4998-bad3-45ff50689483"
      },
      "source": [
        "\"\"\" In order to use any other data, one must ensure the dataset must contain only two columns ['article', 'summary']. \"\"\"\n",
        "\n",
        "# loading the sample training dataset\n",
        "import pandas as pd\n",
        "traindata = pd.read_csv('/content/project/drive/MyDrive/Colab Notebooks/Text Summarization/CNNDailymail_small.csv')\n",
        "traindata"
      ],
      "execution_count": 6,
      "outputs": [
        {
          "output_type": "execute_result",
          "data": {
            "text/html": [
              "<div>\n",
              "<style scoped>\n",
              "    .dataframe tbody tr th:only-of-type {\n",
              "        vertical-align: middle;\n",
              "    }\n",
              "\n",
              "    .dataframe tbody tr th {\n",
              "        vertical-align: top;\n",
              "    }\n",
              "\n",
              "    .dataframe thead th {\n",
              "        text-align: right;\n",
              "    }\n",
              "</style>\n",
              "<table border=\"1\" class=\"dataframe\">\n",
              "  <thead>\n",
              "    <tr style=\"text-align: right;\">\n",
              "      <th></th>\n",
              "      <th>article</th>\n",
              "      <th>summary</th>\n",
              "    </tr>\n",
              "  </thead>\n",
              "  <tbody>\n",
              "    <tr>\n",
              "      <th>0</th>\n",
              "      <td>It's official: U.S. President Barack Obama wan...</td>\n",
              "      <td>Syrian official: Obama climbed to the top of t...</td>\n",
              "    </tr>\n",
              "    <tr>\n",
              "      <th>1</th>\n",
              "      <td>(CNN) -- Usain Bolt rounded off the world cham...</td>\n",
              "      <td>Usain Bolt wins third gold of world championsh...</td>\n",
              "    </tr>\n",
              "    <tr>\n",
              "      <th>2</th>\n",
              "      <td>Kansas City, Missouri (CNN) -- The General Ser...</td>\n",
              "      <td>The employee in agency's Kansas City office is...</td>\n",
              "    </tr>\n",
              "    <tr>\n",
              "      <th>3</th>\n",
              "      <td>Los Angeles (CNN) -- A medical doctor in Vanco...</td>\n",
              "      <td>NEW: A Canadian doctor says she was part of a ...</td>\n",
              "    </tr>\n",
              "    <tr>\n",
              "      <th>4</th>\n",
              "      <td>(CNN) -- Police arrested another teen Thursday...</td>\n",
              "      <td>Another arrest made in gang rape outside Calif...</td>\n",
              "    </tr>\n",
              "    <tr>\n",
              "      <th>...</th>\n",
              "      <td>...</td>\n",
              "      <td>...</td>\n",
              "    </tr>\n",
              "    <tr>\n",
              "      <th>2866</th>\n",
              "      <td>Beijing (CNN) -- Li Keqiang on Friday was name...</td>\n",
              "      <td>Li Keqiang was named China's premier, the No. ...</td>\n",
              "    </tr>\n",
              "    <tr>\n",
              "      <th>2867</th>\n",
              "      <td>Fort Lauderdale, Florida (CNN) -- A Florida te...</td>\n",
              "      <td>Hospital spokeswoman says Michael Brewer havin...</td>\n",
              "    </tr>\n",
              "    <tr>\n",
              "      <th>2868</th>\n",
              "      <td>(CNN Student News) -- December 16, 2010 . Down...</td>\n",
              "      <td>Examine some of the stories making headlines i...</td>\n",
              "    </tr>\n",
              "    <tr>\n",
              "      <th>2869</th>\n",
              "      <td>Istanbul (CNN) -- Crowds of mourners gathered ...</td>\n",
              "      <td>At least two people shot dead in Saturday clas...</td>\n",
              "    </tr>\n",
              "    <tr>\n",
              "      <th>2870</th>\n",
              "      <td>(CNN) -- A leader of the defeated Tamil Tiger ...</td>\n",
              "      <td>Selvarasa Padmanathan was\"self-appointed leade...</td>\n",
              "    </tr>\n",
              "  </tbody>\n",
              "</table>\n",
              "<p>2871 rows × 2 columns</p>\n",
              "</div>"
            ],
            "text/plain": [
              "                                                article                                            summary\n",
              "0     It's official: U.S. President Barack Obama wan...  Syrian official: Obama climbed to the top of t...\n",
              "1     (CNN) -- Usain Bolt rounded off the world cham...  Usain Bolt wins third gold of world championsh...\n",
              "2     Kansas City, Missouri (CNN) -- The General Ser...  The employee in agency's Kansas City office is...\n",
              "3     Los Angeles (CNN) -- A medical doctor in Vanco...  NEW: A Canadian doctor says she was part of a ...\n",
              "4     (CNN) -- Police arrested another teen Thursday...  Another arrest made in gang rape outside Calif...\n",
              "...                                                 ...                                                ...\n",
              "2866  Beijing (CNN) -- Li Keqiang on Friday was name...  Li Keqiang was named China's premier, the No. ...\n",
              "2867  Fort Lauderdale, Florida (CNN) -- A Florida te...  Hospital spokeswoman says Michael Brewer havin...\n",
              "2868  (CNN Student News) -- December 16, 2010 . Down...  Examine some of the stories making headlines i...\n",
              "2869  Istanbul (CNN) -- Crowds of mourners gathered ...  At least two people shot dead in Saturday clas...\n",
              "2870  (CNN) -- A leader of the defeated Tamil Tiger ...  Selvarasa Padmanathan was\"self-appointed leade...\n",
              "\n",
              "[2871 rows x 2 columns]"
            ]
          },
          "metadata": {
            "tags": []
          },
          "execution_count": 6
        }
      ]
    },
    {
      "cell_type": "code",
      "metadata": {
        "id": "FgA4BI5jxzbn"
      },
      "source": [
        "# installing the required libraries\n",
        "!pip install -r requirements.txt"
      ],
      "execution_count": null,
      "outputs": []
    },
    {
      "cell_type": "code",
      "metadata": {
        "id": "p2-imCLYse_X"
      },
      "source": [
        "# create a folder for the fine tuned model\n",
        "!mkdir fine_tuned_folder"
      ],
      "execution_count": null,
      "outputs": []
    },
    {
      "cell_type": "markdown",
      "metadata": {
        "id": "7T2OPjKmJNqX"
      },
      "source": [
        "Training Script"
      ]
    },
    {
      "cell_type": "code",
      "metadata": {
        "colab": {
          "base_uri": "https://localhost:8080/"
        },
        "id": "UsoaJ2OzKsiu",
        "outputId": "19f7129f-3bfb-4657-eee8-6970da4cd60e"
      },
      "source": [
        "!python train_GPT2.py --epochs=3 --data_path='/content/project/drive/MyDrive/Colab Notebooks/Text Summarization/CNNDailymail_small.csv' --model_arch_name='distilgpt2' --model_directory='/content/project/fine_tuned_folder/gpt2.pt'"
      ],
      "execution_count": null,
      "outputs": [
        {
          "output_type": "stream",
          "text": [
            "PROCESSING THE DATA .......................................................................\n",
            "Downloading: 100% 1.04M/1.04M [00:00<00:00, 4.13MB/s]\n",
            "Downloading: 100% 456k/456k [00:00<00:00, 2.62MB/s]\n",
            "Downloading: 100% 1.36M/1.36M [00:00<00:00, 5.22MB/s]\n",
            "Token indices sequence length is longer than the specified maximum sequence length for this model (1177 > 1024). Running this sequence through the model will result in indexing errors\n",
            "CREATING BATCHES FOR TRAINING .............................................................\n",
            "DOWNLOADING MODEL FROM HUGGINGFACE 🤗 🤗........................................................\n",
            "Downloading: 100% 762/762 [00:00<00:00, 689kB/s]\n",
            "Downloading: 100% 353M/353M [00:05<00:00, 65.3MB/s]\n",
            "STARTING THE TRAINING PROCESS  😇 😇\n",
            "Learning Rate -->>  9.938666768372829e-05\n",
            "For epoch : 1  Training loss is : 5.00528316812303  Validation loss is : 2.285308855651605  Time taken: 134.0967948436737\n",
            "Saving the best model 😁\n",
            "====================================================================================================\n",
            "Learning Rate -->>  4.590520244649574e-05\n",
            "For epoch : 2  Training loss is : 2.2183115880112543  Validation loss is : 2.2048899130989805  Time taken: 133.09597659111023\n",
            "Saving the best model 😁\n",
            "====================================================================================================\n",
            "Learning Rate -->>  1.6932154526098064e-09\n",
            "For epoch : 3  Training loss is : 1.8651580598133661  Validation loss is : 2.218908257255651  Time taken: 132.97313451766968\n",
            "Saving the best model 😁\n",
            "====================================================================================================\n"
          ],
          "name": "stdout"
        }
      ]
    },
    {
      "cell_type": "markdown",
      "metadata": {
        "id": "HQG-G8mxJV1v"
      },
      "source": [
        "Inference Script"
      ]
    },
    {
      "cell_type": "code",
      "metadata": {
        "id": "Xvc8gwDOIBgt"
      },
      "source": [
        "!python eval.py --input_file='/content/project/sample.txt' --model_directory='/content/project/drive/MyDrive/Colab Notebooks/Text Summarization/GPT2_medium_CNNDailymail_new.pt'  --model_arch_name='distilgpt2' --num_of_samples=3"
      ],
      "execution_count": null,
      "outputs": []
    }
  ]
}